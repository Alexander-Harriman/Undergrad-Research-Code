{
 "cells": [
  {
   "cell_type": "markdown",
   "id": "fdd66032-4717-458a-b02b-168eded3e894",
   "metadata": {},
   "source": [
    "# Ginsberg Data Analysis"
   ]
  },
  {
   "cell_type": "markdown",
   "id": "10feb52e-f390-4b9a-a35e-ec6c91fb4f65",
   "metadata": {},
   "source": [
    "In this file, depression data from the Ginsberg dataset will be analyzed using a multiple regression."
   ]
  },
  {
   "cell_type": "code",
   "execution_count": 1,
   "id": "3b10d619-c7ed-458e-b774-5834159bf956",
   "metadata": {},
   "outputs": [],
   "source": [
    "# Load Packages\n",
    "\n",
    "import pandas as pd\n",
    "import statsmodels.api as model"
   ]
  },
  {
   "cell_type": "code",
   "execution_count": 2,
   "id": "55ed00a5-8b03-4e06-b3ff-248461dd6d7c",
   "metadata": {},
   "outputs": [],
   "source": [
    "# Load Data\n",
    "\n",
    "ginsberg = pd.read_csv(\"ginsberg.csv\")"
   ]
  },
  {
   "cell_type": "markdown",
   "id": "3365c0af-84b4-464c-be27-84d95bdd1a1a",
   "metadata": {},
   "source": [
    "# Verifying Data Integrity"
   ]
  },
  {
   "cell_type": "code",
   "execution_count": 3,
   "id": "ef76ebf6-ecea-4440-b1a7-33bef033a4f1",
   "metadata": {},
   "outputs": [
    {
     "data": {
      "text/plain": [
       "Index(['SUBJECT', 'SIMPLICITY', 'FATALISM', 'DEPRESSION',\n",
       "       'ADJUSTED SIMPLICITY', 'ADJUSTED FATALISM', 'ADJUSTED DEPRESSION'],\n",
       "      dtype='object')"
      ]
     },
     "execution_count": 3,
     "metadata": {},
     "output_type": "execute_result"
    }
   ],
   "source": [
    "ginsberg.columns\n",
    "\n",
    "#No column names found, must be added\n",
    "ginsberg.columns = [\"SUBJECT\", \"SIMPLICITY\", \"FATALISM\", \"DEPRESSION\", \"ADJUSTED SIMPLICITY\", \"ADJUSTED FATALISM\", \"ADJUSTED DEPRESSION\"]\n",
    "\n",
    "ginsberg.columns"
   ]
  },
  {
   "cell_type": "code",
   "execution_count": 4,
   "id": "5e4c8261-8d40-45fa-8daf-d5e11185ae7d",
   "metadata": {},
   "outputs": [
    {
     "data": {
      "text/html": [
       "<div>\n",
       "<style scoped>\n",
       "    .dataframe tbody tr th:only-of-type {\n",
       "        vertical-align: middle;\n",
       "    }\n",
       "\n",
       "    .dataframe tbody tr th {\n",
       "        vertical-align: top;\n",
       "    }\n",
       "\n",
       "    .dataframe thead th {\n",
       "        text-align: right;\n",
       "    }\n",
       "</style>\n",
       "<table border=\"1\" class=\"dataframe\">\n",
       "  <thead>\n",
       "    <tr style=\"text-align: right;\">\n",
       "      <th></th>\n",
       "      <th>SUBJECT</th>\n",
       "      <th>SIMPLICITY</th>\n",
       "      <th>FATALISM</th>\n",
       "      <th>DEPRESSION</th>\n",
       "      <th>ADJUSTED SIMPLICITY</th>\n",
       "      <th>ADJUSTED FATALISM</th>\n",
       "      <th>ADJUSTED DEPRESSION</th>\n",
       "    </tr>\n",
       "  </thead>\n",
       "  <tbody>\n",
       "    <tr>\n",
       "      <th>0</th>\n",
       "      <td>2</td>\n",
       "      <td>0.91097</td>\n",
       "      <td>1.18439</td>\n",
       "      <td>0.72787</td>\n",
       "      <td>0.72717</td>\n",
       "      <td>0.99915</td>\n",
       "      <td>0.51688</td>\n",
       "    </tr>\n",
       "    <tr>\n",
       "      <th>1</th>\n",
       "      <td>3</td>\n",
       "      <td>0.53366</td>\n",
       "      <td>-0.05837</td>\n",
       "      <td>0.53411</td>\n",
       "      <td>0.62176</td>\n",
       "      <td>0.03811</td>\n",
       "      <td>0.70699</td>\n",
       "    </tr>\n",
       "    <tr>\n",
       "      <th>2</th>\n",
       "      <td>4</td>\n",
       "      <td>0.74118</td>\n",
       "      <td>0.35589</td>\n",
       "      <td>0.56641</td>\n",
       "      <td>0.83522</td>\n",
       "      <td>0.42218</td>\n",
       "      <td>0.65639</td>\n",
       "    </tr>\n",
       "    <tr>\n",
       "      <th>3</th>\n",
       "      <td>5</td>\n",
       "      <td>0.53366</td>\n",
       "      <td>0.77014</td>\n",
       "      <td>0.50182</td>\n",
       "      <td>0.47697</td>\n",
       "      <td>0.81423</td>\n",
       "      <td>0.53518</td>\n",
       "    </tr>\n",
       "    <tr>\n",
       "      <th>4</th>\n",
       "      <td>6</td>\n",
       "      <td>0.62799</td>\n",
       "      <td>1.39152</td>\n",
       "      <td>0.56641</td>\n",
       "      <td>0.40664</td>\n",
       "      <td>1.23261</td>\n",
       "      <td>0.34042</td>\n",
       "    </tr>\n",
       "  </tbody>\n",
       "</table>\n",
       "</div>"
      ],
      "text/plain": [
       "   SUBJECT  SIMPLICITY  FATALISM  DEPRESSION  ADJUSTED SIMPLICITY  \\\n",
       "0        2     0.91097   1.18439     0.72787              0.72717   \n",
       "1        3     0.53366  -0.05837     0.53411              0.62176   \n",
       "2        4     0.74118   0.35589     0.56641              0.83522   \n",
       "3        5     0.53366   0.77014     0.50182              0.47697   \n",
       "4        6     0.62799   1.39152     0.56641              0.40664   \n",
       "\n",
       "   ADJUSTED FATALISM  ADJUSTED DEPRESSION  \n",
       "0            0.99915              0.51688  \n",
       "1            0.03811              0.70699  \n",
       "2            0.42218              0.65639  \n",
       "3            0.81423              0.53518  \n",
       "4            1.23261              0.34042  "
      ]
     },
     "execution_count": 4,
     "metadata": {},
     "output_type": "execute_result"
    }
   ],
   "source": [
    "#Checking first few rows\n",
    "ginsberg.head()\n",
    "\n",
    "#Since the row names overwrite the first row, the header = FALSE argument is needed when loading data."
   ]
  },
  {
   "cell_type": "code",
   "execution_count": 5,
   "id": "fe5fc088-47fc-40a7-a662-9500fb041559",
   "metadata": {},
   "outputs": [],
   "source": [
    "ginsberg = pd.read_csv(\"ginsberg.csv\", header = None)"
   ]
  },
  {
   "cell_type": "code",
   "execution_count": 6,
   "id": "bcd686ce-758d-491b-b9ee-27fd3805e064",
   "metadata": {},
   "outputs": [
    {
     "data": {
      "text/plain": [
       "Index(['SUBJECT', 'SIMPLICITY', 'FATALISM', 'DEPRESSION',\n",
       "       'ADJUSTED SIMPLICITY', 'ADJUSTED FATALISM', 'ADJUSTED DEPRESSION'],\n",
       "      dtype='object')"
      ]
     },
     "execution_count": 6,
     "metadata": {},
     "output_type": "execute_result"
    }
   ],
   "source": [
    "ginsberg.columns = [\"SUBJECT\", \"SIMPLICITY\", \"FATALISM\", \"DEPRESSION\", \"ADJUSTED SIMPLICITY\", \"ADJUSTED FATALISM\", \"ADJUSTED DEPRESSION\"]\n",
    "\n",
    "ginsberg.columns"
   ]
  },
  {
   "cell_type": "code",
   "execution_count": 7,
   "id": "8f166ad0-7594-408c-9b06-93a2b77e16eb",
   "metadata": {},
   "outputs": [
    {
     "data": {
      "text/html": [
       "<div>\n",
       "<style scoped>\n",
       "    .dataframe tbody tr th:only-of-type {\n",
       "        vertical-align: middle;\n",
       "    }\n",
       "\n",
       "    .dataframe tbody tr th {\n",
       "        vertical-align: top;\n",
       "    }\n",
       "\n",
       "    .dataframe thead th {\n",
       "        text-align: right;\n",
       "    }\n",
       "</style>\n",
       "<table border=\"1\" class=\"dataframe\">\n",
       "  <thead>\n",
       "    <tr style=\"text-align: right;\">\n",
       "      <th></th>\n",
       "      <th>SUBJECT</th>\n",
       "      <th>SIMPLICITY</th>\n",
       "      <th>FATALISM</th>\n",
       "      <th>DEPRESSION</th>\n",
       "      <th>ADJUSTED SIMPLICITY</th>\n",
       "      <th>ADJUSTED FATALISM</th>\n",
       "      <th>ADJUSTED DEPRESSION</th>\n",
       "    </tr>\n",
       "  </thead>\n",
       "  <tbody>\n",
       "    <tr>\n",
       "      <th>0</th>\n",
       "      <td>1</td>\n",
       "      <td>0.92983</td>\n",
       "      <td>0.35589</td>\n",
       "      <td>0.59870</td>\n",
       "      <td>0.75934</td>\n",
       "      <td>0.10673</td>\n",
       "      <td>0.41865</td>\n",
       "    </tr>\n",
       "    <tr>\n",
       "      <th>1</th>\n",
       "      <td>2</td>\n",
       "      <td>0.91097</td>\n",
       "      <td>1.18439</td>\n",
       "      <td>0.72787</td>\n",
       "      <td>0.72717</td>\n",
       "      <td>0.99915</td>\n",
       "      <td>0.51688</td>\n",
       "    </tr>\n",
       "    <tr>\n",
       "      <th>2</th>\n",
       "      <td>3</td>\n",
       "      <td>0.53366</td>\n",
       "      <td>-0.05837</td>\n",
       "      <td>0.53411</td>\n",
       "      <td>0.62176</td>\n",
       "      <td>0.03811</td>\n",
       "      <td>0.70699</td>\n",
       "    </tr>\n",
       "    <tr>\n",
       "      <th>3</th>\n",
       "      <td>4</td>\n",
       "      <td>0.74118</td>\n",
       "      <td>0.35589</td>\n",
       "      <td>0.56641</td>\n",
       "      <td>0.83522</td>\n",
       "      <td>0.42218</td>\n",
       "      <td>0.65639</td>\n",
       "    </tr>\n",
       "    <tr>\n",
       "      <th>4</th>\n",
       "      <td>5</td>\n",
       "      <td>0.53366</td>\n",
       "      <td>0.77014</td>\n",
       "      <td>0.50182</td>\n",
       "      <td>0.47697</td>\n",
       "      <td>0.81423</td>\n",
       "      <td>0.53518</td>\n",
       "    </tr>\n",
       "  </tbody>\n",
       "</table>\n",
       "</div>"
      ],
      "text/plain": [
       "   SUBJECT  SIMPLICITY  FATALISM  DEPRESSION  ADJUSTED SIMPLICITY  \\\n",
       "0        1     0.92983   0.35589     0.59870              0.75934   \n",
       "1        2     0.91097   1.18439     0.72787              0.72717   \n",
       "2        3     0.53366  -0.05837     0.53411              0.62176   \n",
       "3        4     0.74118   0.35589     0.56641              0.83522   \n",
       "4        5     0.53366   0.77014     0.50182              0.47697   \n",
       "\n",
       "   ADJUSTED FATALISM  ADJUSTED DEPRESSION  \n",
       "0            0.10673              0.41865  \n",
       "1            0.99915              0.51688  \n",
       "2            0.03811              0.70699  \n",
       "3            0.42218              0.65639  \n",
       "4            0.81423              0.53518  "
      ]
     },
     "execution_count": 7,
     "metadata": {},
     "output_type": "execute_result"
    }
   ],
   "source": [
    "ginsberg.head()"
   ]
  },
  {
   "cell_type": "code",
   "execution_count": 8,
   "id": "b1546832-0d4d-47df-9627-f63477980b8e",
   "metadata": {},
   "outputs": [
    {
     "data": {
      "text/plain": [
       "82"
      ]
     },
     "execution_count": 8,
     "metadata": {},
     "output_type": "execute_result"
    }
   ],
   "source": [
    "#Checking the number of unique Subjects\n",
    "\n",
    "ginsberg.shape\n",
    "ginsberg['SUBJECT'].nunique()"
   ]
  },
  {
   "cell_type": "markdown",
   "id": "b61eb5d9-272d-43c2-9f2a-9ff0d201ce90",
   "metadata": {},
   "source": [
    "All Subject values are unique."
   ]
  },
  {
   "cell_type": "code",
   "execution_count": 9,
   "id": "7f5acf38-8dfc-4740-ad18-19f69324b9f6",
   "metadata": {},
   "outputs": [
    {
     "name": "stdout",
     "output_type": "stream",
     "text": [
      "<class 'pandas.core.frame.DataFrame'>\n",
      "RangeIndex: 82 entries, 0 to 81\n",
      "Data columns (total 7 columns):\n",
      " #   Column               Non-Null Count  Dtype  \n",
      "---  ------               --------------  -----  \n",
      " 0   SUBJECT              82 non-null     int64  \n",
      " 1   SIMPLICITY           82 non-null     float64\n",
      " 2   FATALISM             82 non-null     float64\n",
      " 3   DEPRESSION           82 non-null     float64\n",
      " 4   ADJUSTED SIMPLICITY  82 non-null     float64\n",
      " 5   ADJUSTED FATALISM    82 non-null     float64\n",
      " 6   ADJUSTED DEPRESSION  82 non-null     float64\n",
      "dtypes: float64(6), int64(1)\n",
      "memory usage: 4.6 KB\n"
     ]
    }
   ],
   "source": [
    "ginsberg.info()"
   ]
  },
  {
   "cell_type": "markdown",
   "id": "0ecf433a-1310-4d91-9bb9-d4be004a28f9",
   "metadata": {},
   "source": [
    "All columns are float values, which is expected. Thus, a regression can be run."
   ]
  },
  {
   "cell_type": "markdown",
   "id": "eb8c15cd-1f53-4268-a00b-2c5787dc7c6c",
   "metadata": {},
   "source": [
    "# Create the Regression"
   ]
  },
  {
   "cell_type": "markdown",
   "id": "c979dd9c-6553-4ea0-82c0-6d354a119e42",
   "metadata": {},
   "source": [
    "Declaring the dependent and independent variables:"
   ]
  },
  {
   "cell_type": "code",
   "execution_count": 10,
   "id": "00ea25e5-b392-41ef-8f70-2149c3ae0b09",
   "metadata": {},
   "outputs": [],
   "source": [
    "y = ginsberg['DEPRESSION']\n",
    "x1 = ginsberg[['SIMPLICITY','FATALISM']]"
   ]
  },
  {
   "cell_type": "markdown",
   "id": "a5f8f52d-4a97-4a66-b666-06de77099403",
   "metadata": {},
   "source": [
    "## Regression"
   ]
  },
  {
   "cell_type": "code",
   "execution_count": 11,
   "id": "c2787e9a-5382-43d1-a01c-a7fd75e9f11d",
   "metadata": {},
   "outputs": [
    {
     "data": {
      "text/html": [
       "<table class=\"simpletable\">\n",
       "<caption>OLS Regression Results</caption>\n",
       "<tr>\n",
       "  <th>Dep. Variable:</th>       <td>DEPRESSION</td>    <th>  R-squared:         </th> <td>   0.519</td>\n",
       "</tr>\n",
       "<tr>\n",
       "  <th>Model:</th>                   <td>OLS</td>       <th>  Adj. R-squared:    </th> <td>   0.507</td>\n",
       "</tr>\n",
       "<tr>\n",
       "  <th>Method:</th>             <td>Least Squares</td>  <th>  F-statistic:       </th> <td>   42.58</td>\n",
       "</tr>\n",
       "<tr>\n",
       "  <th>Date:</th>             <td>Wed, 20 Jul 2022</td> <th>  Prob (F-statistic):</th> <td>2.84e-13</td>\n",
       "</tr>\n",
       "<tr>\n",
       "  <th>Time:</th>                 <td>18:13:16</td>     <th>  Log-Likelihood:    </th> <td> -29.024</td>\n",
       "</tr>\n",
       "<tr>\n",
       "  <th>No. Observations:</th>      <td>    82</td>      <th>  AIC:               </th> <td>   64.05</td>\n",
       "</tr>\n",
       "<tr>\n",
       "  <th>Df Residuals:</th>          <td>    79</td>      <th>  BIC:               </th> <td>   71.27</td>\n",
       "</tr>\n",
       "<tr>\n",
       "  <th>Df Model:</th>              <td>     2</td>      <th>                     </th>     <td> </td>   \n",
       "</tr>\n",
       "<tr>\n",
       "  <th>Covariance Type:</th>      <td>nonrobust</td>    <th>                     </th>     <td> </td>   \n",
       "</tr>\n",
       "</table>\n",
       "<table class=\"simpletable\">\n",
       "<tr>\n",
       "       <td></td>         <th>coef</th>     <th>std err</th>      <th>t</th>      <th>P>|t|</th>  <th>[0.025</th>    <th>0.975]</th>  \n",
       "</tr>\n",
       "<tr>\n",
       "  <th>const</th>      <td>    0.2027</td> <td>    0.095</td> <td>    2.140</td> <td> 0.035</td> <td>    0.014</td> <td>    0.391</td>\n",
       "</tr>\n",
       "<tr>\n",
       "  <th>SIMPLICITY</th> <td>    0.3795</td> <td>    0.101</td> <td>    3.771</td> <td> 0.000</td> <td>    0.179</td> <td>    0.580</td>\n",
       "</tr>\n",
       "<tr>\n",
       "  <th>FATALISM</th>   <td>    0.4178</td> <td>    0.101</td> <td>    4.151</td> <td> 0.000</td> <td>    0.217</td> <td>    0.618</td>\n",
       "</tr>\n",
       "</table>\n",
       "<table class=\"simpletable\">\n",
       "<tr>\n",
       "  <th>Omnibus:</th>       <td>11.218</td> <th>  Durbin-Watson:     </th> <td>   1.179</td>\n",
       "</tr>\n",
       "<tr>\n",
       "  <th>Prob(Omnibus):</th> <td> 0.004</td> <th>  Jarque-Bera (JB):  </th> <td>  11.425</td>\n",
       "</tr>\n",
       "<tr>\n",
       "  <th>Skew:</th>          <td> 0.857</td> <th>  Prob(JB):          </th> <td> 0.00330</td>\n",
       "</tr>\n",
       "<tr>\n",
       "  <th>Kurtosis:</th>      <td> 3.636</td> <th>  Cond. No.          </th> <td>    6.00</td>\n",
       "</tr>\n",
       "</table><br/><br/>Notes:<br/>[1] Standard Errors assume that the covariance matrix of the errors is correctly specified."
      ],
      "text/plain": [
       "<class 'statsmodels.iolib.summary.Summary'>\n",
       "\"\"\"\n",
       "                            OLS Regression Results                            \n",
       "==============================================================================\n",
       "Dep. Variable:             DEPRESSION   R-squared:                       0.519\n",
       "Model:                            OLS   Adj. R-squared:                  0.507\n",
       "Method:                 Least Squares   F-statistic:                     42.58\n",
       "Date:                Wed, 20 Jul 2022   Prob (F-statistic):           2.84e-13\n",
       "Time:                        18:13:16   Log-Likelihood:                -29.024\n",
       "No. Observations:                  82   AIC:                             64.05\n",
       "Df Residuals:                      79   BIC:                             71.27\n",
       "Df Model:                           2                                         \n",
       "Covariance Type:            nonrobust                                         \n",
       "==============================================================================\n",
       "                 coef    std err          t      P>|t|      [0.025      0.975]\n",
       "------------------------------------------------------------------------------\n",
       "const          0.2027      0.095      2.140      0.035       0.014       0.391\n",
       "SIMPLICITY     0.3795      0.101      3.771      0.000       0.179       0.580\n",
       "FATALISM       0.4178      0.101      4.151      0.000       0.217       0.618\n",
       "==============================================================================\n",
       "Omnibus:                       11.218   Durbin-Watson:                   1.179\n",
       "Prob(Omnibus):                  0.004   Jarque-Bera (JB):               11.425\n",
       "Skew:                           0.857   Prob(JB):                      0.00330\n",
       "Kurtosis:                       3.636   Cond. No.                         6.00\n",
       "==============================================================================\n",
       "\n",
       "Notes:\n",
       "[1] Standard Errors assume that the covariance matrix of the errors is correctly specified.\n",
       "\"\"\""
      ]
     },
     "execution_count": 11,
     "metadata": {},
     "output_type": "execute_result"
    }
   ],
   "source": [
    "x = model.add_constant(x1)\n",
    "results = model.OLS(y,x).fit()\n",
    "results.summary()"
   ]
  },
  {
   "cell_type": "markdown",
   "id": "acb5eb99-8628-40bb-bfb6-24e68d0e7b35",
   "metadata": {},
   "source": [
    "# Results and Interpretation"
   ]
  },
  {
   "cell_type": "markdown",
   "id": "3dba7a6b-29b9-44ed-9394-c17e8fdfed46",
   "metadata": {},
   "source": [
    "Based on the regression results, both Simplicity and Fatalism are statistically significant variables at the 95% confidence level. The variables have a P value less than .05, and the Confidence Interval does not contain 0.\n",
    "\n",
    "The model's overall R^2 is .519, which indicates a moderately positive correlation. Since the F-statistic probability is less than .05, the model has some level of trend."
   ]
  },
  {
   "cell_type": "markdown",
   "id": "6f97c91d-e796-4cd4-b95d-f3dad9c10024",
   "metadata": {},
   "source": [
    "Overall, the model suggests Depression = (.3795 * Simplicity) + (.4178 * Fatalism) + .2027."
   ]
  }
 ],
 "metadata": {
  "kernelspec": {
   "display_name": "Python 3 (ipykernel)",
   "language": "python",
   "name": "python3"
  },
  "language_info": {
   "codemirror_mode": {
    "name": "ipython",
    "version": 3
   },
   "file_extension": ".py",
   "mimetype": "text/x-python",
   "name": "python",
   "nbconvert_exporter": "python",
   "pygments_lexer": "ipython3",
   "version": "3.9.12"
  }
 },
 "nbformat": 4,
 "nbformat_minor": 5
}
